{
  "nbformat": 4,
  "nbformat_minor": 0,
  "metadata": {
    "colab": {
      "provenance": [],
      "toc_visible": true,
      "authorship_tag": "ABX9TyOIFdtIu5Qx0o0NlueWmi9i",
      "include_colab_link": true
    },
    "kernelspec": {
      "name": "python3",
      "display_name": "Python 3"
    },
    "language_info": {
      "name": "python"
    }
  },
  "cells": [
    {
      "cell_type": "markdown",
      "metadata": {
        "id": "view-in-github",
        "colab_type": "text"
      },
      "source": [
        "<a href=\"https://colab.research.google.com/github/GerardoDiazD/Py/blob/main/Inicio.ipynb\" target=\"_parent\"><img src=\"https://colab.research.google.com/assets/colab-badge.svg\" alt=\"Open In Colab\"/></a>"
      ]
    },
    {
      "cell_type": "markdown",
      "source": [
        "# **Curso Big Data**"
      ],
      "metadata": {
        "id": "MhjknwAvbc1O"
      }
    },
    {
      "cell_type": "markdown",
      "source": [
        "# Día 1"
      ],
      "metadata": {
        "id": "RnfEbJ6Si1o6"
      }
    },
    {
      "cell_type": "code",
      "execution_count": 14,
      "metadata": {
        "colab": {
          "base_uri": "https://localhost:8080/"
        },
        "id": "BQzOf061bUF0",
        "outputId": "9fa0c3f0-1f9d-4db8-9137-b92779ad5d38"
      },
      "outputs": [
        {
          "output_type": "stream",
          "name": "stdout",
          "text": [
            "Dame un número:10\n",
            "Dame otro número:2\n",
            "10 dividido entre 2 da un cociente= 5 y un residuo de 0\n"
          ]
        }
      ],
      "source": [
        "#Ejercicio uno\n",
        "n = int(input('Dame un número:'))\n",
        "m = int(input('Dame otro número:'))\n",
        "cosi = n//m\n",
        "res  = n % m\n",
        "\n",
        "print (f'{n} dividido entre {m} da un cociente= {cosi} y un residuo de {res}')\n",
        "\n"
      ]
    },
    {
      "cell_type": "code",
      "source": [],
      "metadata": {
        "id": "_sbCO6mhiBdw"
      },
      "execution_count": null,
      "outputs": []
    }
  ]
}